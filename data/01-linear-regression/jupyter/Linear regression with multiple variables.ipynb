{
 "cells": [
  {
   "cell_type": "code",
   "execution_count": 1,
   "metadata": {
    "collapsed": false
   },
   "outputs": [],
   "source": [
    "# Python 3 script for calculating Linear regression with multiple variables\n",
    "# import numpy and pandas, and DataFrame / Series\n",
    "import numpy as np\n",
    "import pandas as pd\n",
    "from pandas import DataFrame, Series\n",
    "    \n",
    "# Set some pandas options\n",
    "pd.set_option('display.notebook_repr_html', False)\n",
    "pd.set_option('display.max_columns', 1000)\n",
    "pd.set_option('display.max_rows', 100)\n",
    "\n",
    "# And some items for matplotlib\n",
    "%matplotlib inline\n",
    "import matplotlib.pyplot as plt\n",
    "pd.options.display.mpl_style = 'default'\n",
    "\n",
    "plt.rc('font', family='sans-serif') \n",
    "plt.rc('font', serif='Helvetica Neue') \n",
    "plt.rc('text', usetex='false') \n",
    "plt.rcParams.update({'font.size': 22})"
   ]
  },
  {
   "cell_type": "markdown",
   "metadata": {},
   "source": [
    "## Initialization\n",
    "\n",
    "### Part 1: Feature Normalization "
   ]
  },
  {
   "cell_type": "code",
   "execution_count": 2,
   "metadata": {
    "collapsed": false
   },
   "outputs": [
    {
     "name": "stdout",
     "output_type": "stream",
     "text": [
      "Loading data ...\n",
      "\n"
     ]
    }
   ],
   "source": [
    "print ('Loading data ...\\n')\n",
    "data = np.loadtxt('courseraLinearRegwMult/ex1data2.txt', delimiter=',')"
   ]
  },
  {
   "cell_type": "code",
   "execution_count": 3,
   "metadata": {
    "collapsed": false
   },
   "outputs": [],
   "source": [
    "X = np.array(data[:,0:2])\n",
    "y = np.array(data[:,2])\n",
    "m = len(y)\n",
    "y=np.resize(y, (m,1))"
   ]
  },
  {
   "cell_type": "code",
   "execution_count": 4,
   "metadata": {
    "collapsed": false
   },
   "outputs": [
    {
     "name": "stdout",
     "output_type": "stream",
     "text": [
      "First 10 examples from the dataset: \n",
      "\n",
      "x = [2104 3], y = 399900\n",
      "x = [1600 3], y = 329900\n",
      "x = [2400 3], y = 369000\n",
      "x = [1416 2], y = 232000\n",
      "x = [3000 4], y = 539900\n",
      "x = [1985 4], y = 299900\n",
      "x = [1534 3], y = 314900\n",
      "x = [1427 3], y = 198999\n",
      "x = [1380 3], y = 212000\n",
      "x = [1494 3], y = 242500\n"
     ]
    }
   ],
   "source": [
    "print ('First 10 examples from the dataset: \\n')\n",
    "for i in np.arange(10):\n",
    "    print (\"x = [%d %d], y = %d\" % (X[i,0], X[i,1], y[i]) )"
   ]
  },
  {
   "cell_type": "code",
   "execution_count": 5,
   "metadata": {
    "collapsed": false
   },
   "outputs": [
    {
     "name": "stdout",
     "output_type": "stream",
     "text": [
      "Normalizing Features ...\n",
      "\n"
     ]
    }
   ],
   "source": [
    "# Scale features and set them to zero mean\n",
    "print ('Normalizing Features ...\\n')"
   ]
  },
  {
   "cell_type": "code",
   "execution_count": 6,
   "metadata": {
    "collapsed": false
   },
   "outputs": [],
   "source": [
    "def featureNormalize(X):\n",
    "    #FEATURENORMALIZE Normalizes the features in X \n",
    "    #   FEATURENORMALIZE(X) returns a normalized version of X where\n",
    "    #   the mean value of each feature is 0 and the standard deviation\n",
    "    #   is 1. This is often a good preprocessing step to do when\n",
    "    #   working with learning algorithms.        \n",
    "    mu = X.mean(axis=0)\n",
    "    # See http://stackoverflow.com/questions/27600207/why-does-numpy-std-give-a-different-result-to-matlab-std\n",
    "    # for ddof=1 explanation\n",
    "    sigma = X.std(axis=0, ddof=1)  \n",
    "    numerator = X - ((np.ones( (X.shape[0],X.shape[1]) ) * mu ))\n",
    "    denominator = ((np.ones( (X.shape[0],X.shape[1]) ) * sigma ))\n",
    "\n",
    "    X_norm = numerator / denominator\n",
    "\n",
    "    return (X_norm, mu, sigma)"
   ]
  },
  {
   "cell_type": "code",
   "execution_count": 7,
   "metadata": {
    "collapsed": false
   },
   "outputs": [],
   "source": [
    "(X, mu, sigma) = featureNormalize(X)"
   ]
  },
  {
   "cell_type": "code",
   "execution_count": 8,
   "metadata": {
    "collapsed": false
   },
   "outputs": [],
   "source": [
    "# Add intercept term to X\n",
    "X = np.hstack((np.ones((X.shape[0],1)), X))"
   ]
  },
  {
   "cell_type": "markdown",
   "metadata": {},
   "source": [
    "## Part 2: Gradient Descent"
   ]
  },
  {
   "cell_type": "code",
   "execution_count": 9,
   "metadata": {
    "collapsed": false
   },
   "outputs": [
    {
     "name": "stdout",
     "output_type": "stream",
     "text": [
      "Running gradient descent ...\n",
      "\n"
     ]
    }
   ],
   "source": [
    "print ('Running gradient descent ...\\n')"
   ]
  },
  {
   "cell_type": "code",
   "execution_count": 10,
   "metadata": {
    "collapsed": true
   },
   "outputs": [],
   "source": [
    "# Choose some alpha value\n",
    "alpha = 0.01\n",
    "num_iters = 400"
   ]
  },
  {
   "cell_type": "code",
   "execution_count": 11,
   "metadata": {
    "collapsed": false
   },
   "outputs": [],
   "source": [
    "def computeCostMulti(X, y, theta):\n",
    "    #COMPUTECOSTMULTI Compute cost for linear regression with multiple variables\n",
    "    #   J = COMPUTECOSTMULTI(X, y, theta) computes the cost of using theta as the\n",
    "    #   parameter for linear regression to fit the data points in X and y\n",
    "\n",
    "    # Initialize some useful values\n",
    "    m = len(y) # number of training examples\n",
    "\n",
    "    # You need to return the following variables correctly \n",
    "    J = 0;\n",
    "\n",
    "    # ====================== YOUR CODE HERE ======================\n",
    "    # Instructions: Compute the cost of a particular choice of theta\n",
    "    #               You should set J to the cost.\n",
    "\n",
    "    d = ((theta.T.dot(X.T)).T-y)\n",
    "    d = d * d;\n",
    "\n",
    "    J = (1.0/(2*m))*d.sum();\n",
    "\n",
    "    return J"
   ]
  },
  {
   "cell_type": "code",
   "execution_count": 12,
   "metadata": {
    "collapsed": false
   },
   "outputs": [],
   "source": [
    "def gradientDescentMulti(X, y, theta, alpha, num_iters):\n",
    "    #GRADIENTDESCENTMULTI Performs gradient descent to learn theta\n",
    "    #   theta = GRADIENTDESCENTMULTI(x, y, theta, alpha, num_iters) updates theta by\n",
    "    #   taking num_iters gradient steps with learning rate alpha\n",
    "\n",
    "    # Initialize some useful values\n",
    "    m = y.shape[0] # number of training examples\n",
    "    J_history = np.zeros((num_iters, 1))\n",
    "\n",
    "    for iter in np.arange(num_iters):\n",
    "        d = alpha*(1.0/m)*((theta.T.dot(X.T)).T-y).T.dot(X)\n",
    "        theta = theta - d.T\n",
    "        \n",
    "        #print theta\n",
    "        # Save the cost J in every iteration    \n",
    "        J_history[iter] = computeCostMulti(X, y, theta)\n",
    "          \n",
    "        #print J_history[iter]\n",
    "    return (theta, J_history)"
   ]
  },
  {
   "cell_type": "code",
   "execution_count": 13,
   "metadata": {
    "collapsed": false
   },
   "outputs": [],
   "source": [
    "# Init Theta and Run Gradient Descent \n",
    "theta = np.zeros((3, 1))\n",
    "(theta, J_history) = gradientDescentMulti(X, y, theta, alpha, num_iters)"
   ]
  },
  {
   "cell_type": "code",
   "execution_count": 14,
   "metadata": {
    "collapsed": false
   },
   "outputs": [],
   "source": [
    "# Plot the convergence graph"
   ]
  },
  {
   "cell_type": "code",
   "execution_count": 15,
   "metadata": {
    "collapsed": false
   },
   "outputs": [
    {
     "data": {
      "text/plain": [
       "<matplotlib.collections.PathCollection at 0x7fb4b5700048>"
      ]
     },
     "execution_count": 15,
     "metadata": {},
     "output_type": "execute_result"
    },
    {
     "data": {
      "image/png": "[encoded data removed]",
      "text/plain": [
       "<matplotlib.figure.Figure at 0x7fb4c51e3c88>"
      ]
     },
     "metadata": {},
     "output_type": "display_data"
    }
   ],
   "source": [
    "N = num_iters\n",
    "xx = np.arange(N)\n",
    "yy = J_history\n",
    "plt.scatter(xx, yy)"
   ]
  },
  {
   "cell_type": "code",
   "execution_count": 16,
   "metadata": {
    "collapsed": false
   },
   "outputs": [
    {
     "name": "stdout",
     "output_type": "stream",
     "text": [
      "Theta computed from gradient descent: \n",
      "\n",
      "[[ 334302.06399328]\n",
      " [ 100087.11600585]\n",
      " [   3673.54845093]]\n"
     ]
    }
   ],
   "source": [
    "# Display gradient descent's result\n",
    "print ('Theta computed from gradient descent: \\n')\n",
    "print (theta)"
   ]
  },
  {
   "cell_type": "code",
   "execution_count": 17,
   "metadata": {
    "collapsed": false
   },
   "outputs": [
    {
     "name": "stdout",
     "output_type": "stream",
     "text": [
      "289315\n"
     ]
    }
   ],
   "source": [
    "# Predicted price of a 1650 sq-ft, 3 br house (using gradient descent):\n",
    "pred=(np.array([[1650, 3]])-mu)/sigma\n",
    "pred=np.hstack(([[1]],pred))\n",
    "print ('%.0f' % theta.T.dot(pred.T))"
   ]
  }
 ],
 "metadata": {
  "kernelspec": {
   "display_name": "Python 3",
   "language": "python",
   "name": "python3"
  },
  "language_info": {
   "codemirror_mode": {
    "name": "ipython",
    "version": 3
   },
   "file_extension": ".py",
   "mimetype": "text/x-python",
   "name": "python",
   "nbconvert_exporter": "python",
   "pygments_lexer": "ipython3",
   "version": "3.5.1"
  }
 },
 "nbformat": 4,
 "nbformat_minor": 0
}
