{
 "cells": [
  {
   "cell_type": "markdown",
   "metadata": {},
   "source": [
    "# Machine Learning Online Class - Exercise 2: Logistic Regression w Regularization"
   ]
  },
  {
   "cell_type": "code",
   "execution_count": null,
   "metadata": {
    "collapsed": true
   },
   "outputs": [],
   "source": [
    "# import numpy and pandas, and DataFrame / Series\n",
    "import numpy as np\n",
    "import pandas as pd\n",
    "from pandas import DataFrame, Series\n",
    "    \n",
    "# Set some pandas options\n",
    "pd.set_option('display.notebook_repr_html', False)\n",
    "pd.set_option('display.max_columns', 1000)\n",
    "pd.set_option('display.max_rows', 100)\n",
    "\n",
    "# And some items for %matplotlib\n",
    "%matplotlib inline\n",
    "import matplotlib.pyplot as plt\n",
    "pd.options.display.mpl_style = 'default'\n",
    "\n",
    "plt.rc('font', family='sans-serif') \n",
    "plt.rc('font', serif='Helvetica Neue') \n",
    "plt.rc('text', usetex='false') \n",
    "plt.rcParams.update({'font.size': 22})"
   ]
  },
  {
   "cell_type": "code",
   "execution_count": null,
   "metadata": {
    "collapsed": false
   },
   "outputs": [],
   "source": [
    "print ('Loading data ...\\n')\n",
    "data = np.loadtxt('mlclass-ex2/ex2data2.txt', delimiter=',')"
   ]
  },
  {
   "cell_type": "code",
   "execution_count": null,
   "metadata": {
    "collapsed": true
   },
   "outputs": [],
   "source": [
    "X = np.array(data[:,0:2])\n",
    "y = np.array(data[:,2])\n",
    "m = len(y)\n",
    "y=np.resize(y, (m,1))"
   ]
  },
  {
   "cell_type": "code",
   "execution_count": null,
   "metadata": {
    "collapsed": true
   },
   "outputs": [],
   "source": [
    "def plotData(X, y):\n",
    "    #PLOTDATA Plots the data points X and y into a new figure \n",
    "    #   PLOTDATA(x,y) plots the data points with + for the positive examples\n",
    "    #   and o for the negative examples. X is assumed to be a Mx2 matrix.\n",
    "\n",
    "\n",
    "\n",
    "    # ====================== YOUR CODE HERE ======================\n",
    "    # Instructions: Plot the positive and negative examples on a\n",
    "    #               2D plot, using the option 'k+' for the positive\n",
    "    #               examples and 'ko' for the negative examples.\n",
    "    #\n",
    "    pos = np.where(y==1)[0] \n",
    "    neg = np.where(y==0)[0]\n",
    "    # Plot Examples\n",
    "    l1,=plt.plot(X[pos, 0], X[pos, 1], 'b+', linewidth=2, markersize=7)\n",
    "    l2,=plt.plot(X[neg, 0], X[neg, 1], 'bo', markersize=7)\n",
    "    plt.legend((l1,l2), ('y=1', 'y=0'))"
   ]
  },
  {
   "cell_type": "code",
   "execution_count": null,
   "metadata": {
    "collapsed": false
   },
   "outputs": [],
   "source": [
    "plotData(X,y)\n",
    "plt.xlabel('Microchip Test 1')\n",
    "plt.ylabel('Microchip Test 2')"
   ]
  },
  {
   "cell_type": "markdown",
   "metadata": {},
   "source": [
    "# =========== Part 1: Regularized Logistic Regression ============"
   ]
  }
 ],
 "metadata": {
  "kernelspec": {
   "display_name": "Python 3",
   "language": "python",
   "name": "python3"
  },
  "language_info": {
   "codemirror_mode": {
    "name": "ipython",
    "version": 3
   },
   "file_extension": ".py",
   "mimetype": "text/x-python",
   "name": "python",
   "nbconvert_exporter": "python",
   "pygments_lexer": "ipython3",
   "version": "3.5.1"
  }
 },
 "nbformat": 4,
 "nbformat_minor": 0
}
